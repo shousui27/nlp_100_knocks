{
 "cells": [
  {
   "cell_type": "markdown",
   "id": "74affb4e",
   "metadata": {},
   "source": [
    "文字列”stressed”の文字を逆に（末尾から先頭に向かって）並べた文字列を得よ．"
   ]
  },
  {
   "cell_type": "code",
   "execution_count": null,
   "id": "61daa32d",
   "metadata": {},
   "outputs": [],
   "source": [
    "text = \"stressed\"\n",
    "print(\"\".join([t for t in reversed(text)]))"
   ]
  },
  {
   "cell_type": "markdown",
   "id": "85b31534",
   "metadata": {},
   "source": [
    "「パタトクカシーー」という文字列の1,3,5,7文字目を取り出して連結した文字列を得よ．"
   ]
  },
  {
   "cell_type": "code",
   "execution_count": null,
   "id": "baa812ef",
   "metadata": {},
   "outputs": [],
   "source": [
    "text = \"パタトクカシーー\"\n",
    "print(text[0:8:2])"
   ]
  },
  {
   "cell_type": "markdown",
   "id": "e439a7d9",
   "metadata": {},
   "source": [
    "「パトカー」＋「タクシー」の文字を先頭から交互に連結して文字列「パタトクカシーー」を得よ．"
   ]
  },
  {
   "cell_type": "code",
   "execution_count": null,
   "id": "0480bf79",
   "metadata": {},
   "outputs": [],
   "source": [
    "text1 = \"パトカー\"\n",
    "text2 = \"タクシー\"\n",
    "print(\"\".join([\"\".join(tup) for tup in zip(text1,text2)]))"
   ]
  },
  {
   "cell_type": "markdown",
   "id": "88dd2d17",
   "metadata": {},
   "source": [
    "“Now I need a drink, alcoholic of course, after the heavy lectures involving quantum mechanics.”という文を単語に分解し，各単語の（アルファベットの）文字数を先頭から出現順に並べたリストを作成せよ．"
   ]
  },
  {
   "cell_type": "code",
   "execution_count": null,
   "id": "9d366520",
   "metadata": {},
   "outputs": [],
   "source": [
    "text = \"Now I need a drink, alcoholic of course, after the heavy lectures involving quantum mechanics.\"\n",
    "print([length for length in map(len,text.split(\" \"))])"
   ]
  },
  {
   "cell_type": "markdown",
   "id": "29363fb1",
   "metadata": {},
   "source": [
    "“Hi He Lied Because Boron Could Not Oxidize Fluorine. New Nations Might Also Sign Peace Security Clause. Arthur King Can.”という文を単語に分解し，1, 5, 6, 7, 8, 9, 15, 16, 19番目の単語は先頭の1文字，それ以外の単語は先頭の2文字を取り出し，取り出した文字列から単語の位置（先頭から何番目の単語か）への連想配列（辞書型もしくはマップ型）を作成せよ．"
   ]
  },
  {
   "cell_type": "code",
   "execution_count": null,
   "id": "f5791b20",
   "metadata": {},
   "outputs": [],
   "source": [
    "text = \"Hi He Lied Because Boron Could Not Oxidize Fluorine. New Nations Might Also Sign Peace Security Clause. Arthur King Can.\"\n",
    "words = text.split(\" \")\n",
    "dic = {}\n",
    "for index,word in enumerate(words):\n",
    "    if index in [1, 5, 6, 7, 8, 9, 15, 16, 19]:\n",
    "        dic[index] = word[0]\n",
    "    else:\n",
    "        dic[index] = word[1]\n",
    "print(dic)"
   ]
  },
  {
   "cell_type": "markdown",
   "id": "f19255e7",
   "metadata": {},
   "source": [
    "与えられたシーケンス（文字列やリストなど）からn-gramを作る関数を作成せよ．この関数を用い，”I am an NLPer”という文から単語bi-gram，文字bi-gramを得よ．"
   ]
  },
  {
   "cell_type": "code",
   "execution_count": null,
   "id": "3ef9c9ac",
   "metadata": {},
   "outputs": [],
   "source": [
    "def word_ngram(n:int,words:list) -> list[tuple]:\n",
    "    return [(words[index],words[index + 1]) for index in range(len(words)-1)]\n",
    "text = \"I am an NLPer\"\n",
    "word_ngram(2,text.split(\" \"))"
   ]
  },
  {
   "cell_type": "code",
   "execution_count": null,
   "id": "9271c32a",
   "metadata": {
    "scrolled": true
   },
   "outputs": [],
   "source": [
    "def char_ngram(n:int,text:str):\n",
    "    return [(text[index],text[index + 1]) for index in range(len(text)-1)]\n",
    "text = \"I am an NLPer\"\n",
    "char_ngram(2,text)"
   ]
  },
  {
   "cell_type": "markdown",
   "id": "25f93408",
   "metadata": {},
   "source": [
    "“paraparaparadise”と”paragraph”に含まれる文字bi-gramの集合を，それぞれ, XとYとして求め，XとYの和集合，積集合，差集合を求めよ．さらに，’se’というbi-gramがXおよびYに含まれるかどうかを調べよ．"
   ]
  },
  {
   "cell_type": "code",
   "execution_count": null,
   "id": "7fa43392",
   "metadata": {},
   "outputs": [],
   "source": [
    "text1 = \"paraparaparadise\"\n",
    "text2 = \"paragraph\"\n",
    "X = set(char_ngram(2,text1))\n",
    "Y = set(char_ngram(2,text2))\n",
    "print(X | Y)\n",
    "print(X & Y)\n",
    "print(X - Y)\n",
    "print((\"s\",\"e\") in X)\n",
    "print((\"s\",\"e\") in Y)"
   ]
  },
  {
   "cell_type": "markdown",
   "id": "a1bd1ff5",
   "metadata": {},
   "source": [
    "引数x, y, zを受け取り「x時のyはz」という文字列を返す関数を実装せよ．さらに，x=12, y=”気温”, z=22.4として，実行結果を確認せよ．"
   ]
  },
  {
   "cell_type": "code",
   "execution_count": null,
   "id": "3af2f8de",
   "metadata": {},
   "outputs": [],
   "source": [
    "def mk_text(x:int,y:str,z:float) -> str:\n",
    "    return f\"{x}時の{y}は{z}\"\n",
    "mk_text(x=12, y=\"気温\", z=22.4)"
   ]
  },
  {
   "cell_type": "markdown",
   "id": "92759b0b",
   "metadata": {},
   "source": [
    "与えられた文字列の各文字を，以下の仕様で変換する関数cipherを実装せよ．\n",
    "\n",
    "英小文字ならば(219 - 文字コード)の文字に置換\n",
    "その他の文字はそのまま出力\n",
    "この関数を用い，英語のメッセージを暗号化・復号化せよ．\n",
    "\n"
   ]
  },
  {
   "cell_type": "code",
   "execution_count": null,
   "id": "99b52e02",
   "metadata": {},
   "outputs": [],
   "source": [
    "def cipher(text:str) -> str:\n",
    "    sentenses = []\n",
    "    for char in text:\n",
    "        if char.islower():\n",
    "            sentenses.append(chr(219-ord(char)))\n",
    "        else:\n",
    "            sentenses.append(char)\n",
    "    return \"\".join(sentenses)\n",
    "\n",
    "text = \"PaRapaRapAradiSe\"\n",
    "cipher_text = cipher(text)\n",
    "print(text == cipher(cipher_text))"
   ]
  },
  {
   "cell_type": "markdown",
   "id": "d84c3f53",
   "metadata": {},
   "source": [
    "スペースで区切られた単語列に対して，各単語の先頭と末尾の文字は残し，それ以外の文字の順序をランダムに並び替えるプログラムを作成せよ．ただし，長さが４以下の単語は並び替えないこととする．適当な英語の文（例えば”I couldn’t believe that I could actually understand what I was reading : the phenomenal power of the human mind .”）を与え，その実行結果を確認せよ．"
   ]
  },
  {
   "cell_type": "code",
   "execution_count": null,
   "id": "0404ed76",
   "metadata": {},
   "outputs": [],
   "source": [
    "import random\n",
    "def text_shuffle(text:str) -> str:\n",
    "    text_list = list(text)\n",
    "    random.shuffle(text_list)\n",
    "    return \"\".join(text_list)\n",
    "\n",
    "text = \"I couldn’t believe that I could actually understand what I was reading : the phenomenal power of the human mind .\"\n",
    "words = text.split(\" \")\n",
    "result = []\n",
    "for word in words:\n",
    "    if len(word) > 4:\n",
    "        word = word[0] + text_shuffle(word[1:-1]) + word[-1]\n",
    "    result.append(word)\n",
    "print(\" \".join(result))"
   ]
  }
 ],
 "metadata": {
  "kernelspec": {
   "display_name": "Python 3 (ipykernel)",
   "language": "python",
   "name": "python3"
  },
  "language_info": {
   "codemirror_mode": {
    "name": "ipython",
    "version": 3
   },
   "file_extension": ".py",
   "mimetype": "text/x-python",
   "name": "python",
   "nbconvert_exporter": "python",
   "pygments_lexer": "ipython3",
   "version": "3.10.9"
  }
 },
 "nbformat": 4,
 "nbformat_minor": 5
}
