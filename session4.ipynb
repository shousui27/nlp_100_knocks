{
 "cells": [
  {
   "cell_type": "markdown",
   "id": "4744cd7a",
   "metadata": {},
   "source": [
    "# 第4章: 形態素解析"
   ]
  },
  {
   "cell_type": "markdown",
   "id": "79a5315a",
   "metadata": {},
   "source": [
    "夏目漱石の小説『吾輩は猫である』の文章（neko.txt）をMeCabを使って形態素解析し，その結果をneko.txt.mecabというファイルに保存せよ．このファイルを用いて，以下の問に対応するプログラムを実装せよ．\n",
    "\n",
    "なお，問題37, 38, 39はmatplotlibもしくはGnuplotを用いるとよい．"
   ]
  },
  {
   "cell_type": "code",
   "execution_count": null,
   "id": "e0395dea",
   "metadata": {},
   "outputs": [],
   "source": [
    "import MeCab\n",
    "tagger = MeCab.Tagger()\n",
    "with open(\"./data/neko.txt\",\"r\") as f:\n",
    "    mecab_result = tagger.parse(f.read())\n",
    "with open(\"./data/neko.txt.mecab\",\"w\") as f:\n",
    "    f.write(mecab_result)"
   ]
  },
  {
   "cell_type": "markdown",
   "id": "2d1cbfc8",
   "metadata": {},
   "source": [
    "## 30. 形態素解析結果の読み込み\n",
    "### 形態素解析結果（neko.txt.mecab）を読み込むプログラムを実装せよ．ただし，各形態素は表層形（surface），基本形（base），品詞（pos），品詞細分類1（pos1）をキーとするマッピング型に格納し，1文を形態素（マッピング型）のリストとして表現せよ．第4章の残りの問題では，ここで作ったプログラムを活用せよ．"
   ]
  },
  {
   "cell_type": "code",
   "execution_count": null,
   "id": "e165574b",
   "metadata": {},
   "outputs": [],
   "source": [
    "def read_mecab_file(file_name:str):\n",
    "    with open(file_name,\"r\") as f:\n",
    "        f.readline()\n",
    "        f.readline()\n",
    "        result = []\n",
    "        for row in f.readlines():\n",
    "            if row == 'EOS\\n':\n",
    "                break\n",
    "            text = row.split(\"\\t\")\n",
    "            pos = text[1].replace(\"\\n\",\"\").split(\",\")\n",
    "            dic = {\"surface\" : text[0],\n",
    "                   \"base\" : pos[6],\n",
    "                   \"pos\" : pos[0],\n",
    "                   \"pos1\" : pos[1]}\n",
    "            result.append(dic)\n",
    "    return result\n",
    "mecab_file = read_mecab_file(\"./data/neko.txt.mecab\")\n",
    "mecab_file"
   ]
  },
  {
   "cell_type": "markdown",
   "id": "047349ac",
   "metadata": {},
   "source": [
    "## 31. 動詞Permalink\n",
    "### 動詞の表層形をすべて抽出せよ．"
   ]
  },
  {
   "cell_type": "code",
   "execution_count": null,
   "id": "4a6bcb16",
   "metadata": {},
   "outputs": [],
   "source": [
    "import pandas as pd\n",
    "data = pd.DataFrame(mecab_file)\n",
    "data.surface.unique()"
   ]
  },
  {
   "cell_type": "markdown",
   "id": "c54e193c",
   "metadata": {},
   "source": [
    "## 32. 動詞の基本形Permalink\n",
    "### 動詞の基本形をすべて抽出せよ．"
   ]
  },
  {
   "cell_type": "code",
   "execution_count": null,
   "id": "1c53b6a5",
   "metadata": {},
   "outputs": [],
   "source": [
    "data.base.unique()"
   ]
  },
  {
   "cell_type": "markdown",
   "id": "62997b1b",
   "metadata": {},
   "source": [
    "## 33. 「AのB」Permalink\n",
    "### 2つの名詞が「の」で連結されている名詞句を抽出せよ．"
   ]
  },
  {
   "cell_type": "code",
   "execution_count": null,
   "id": "280682e8",
   "metadata": {},
   "outputs": [],
   "source": [
    "def mk_words(data:pd.DataFrame,index_list:list):\n",
    "    return \"\".join([data.loc[index].surface for index in index_list])\n",
    "\n",
    "result = []\n",
    "for index in data[data[\"surface\"] == \"の\"].index:\n",
    "    before = data.loc[index-1]\n",
    "    after = data.loc[index+1]\n",
    "    if before[\"pos\"] == \"名詞\" and after[\"pos\"] == \"名詞\":\n",
    "        result.append(mk_words(data,[index-1,index,index+1]))\n",
    "result"
   ]
  },
  {
   "cell_type": "markdown",
   "id": "15400f59",
   "metadata": {},
   "source": [
    "## 34. 名詞の連接Permalink\n",
    "### 名詞の連接（連続して出現する名詞）を最長一致で抽出せよ．"
   ]
  },
  {
   "cell_type": "code",
   "execution_count": null,
   "id": "1753f8ac",
   "metadata": {},
   "outputs": [],
   "source": [
    "def continue_index(index_list:list):\n",
    "    start_index = 0\n",
    "    continue_lists = []\n",
    "    continue_list = []\n",
    "    for index in index_list:\n",
    "        if start_index != index:\n",
    "            if len(continue_list) > 1:\n",
    "                continue_lists.append(continue_list)\n",
    "            continue_list = []\n",
    "            start_index = index\n",
    "        continue_list.append(index)\n",
    "        start_index += 1\n",
    "    return continue_lists\n",
    "\n",
    "continue_noun_list = continue_index(data[data.pos == \"名詞\"].index)\n",
    "connected_noun = [mk_words(data,noun_list) for noun_list in continue_noun_list]\n",
    "connected_noun"
   ]
  },
  {
   "cell_type": "markdown",
   "id": "0771a396",
   "metadata": {},
   "source": [
    "## 35. 単語の出現頻度Permalink\n",
    "### 文章中に出現する単語とその出現頻度を求め，出現頻度の高い順に並べよ．"
   ]
  },
  {
   "cell_type": "code",
   "execution_count": null,
   "id": "a82aeeb7",
   "metadata": {},
   "outputs": [],
   "source": [
    "data.groupby(\"surface\").count().sort_values(\"base\",ascending=False)"
   ]
  },
  {
   "cell_type": "markdown",
   "id": "aa056ec0",
   "metadata": {},
   "source": [
    "## 36. 頻度上位10語Permalink\n",
    "### 出現頻度が高い10語とその出現頻度をグラフ（例えば棒グラフなど）で表示せよ．"
   ]
  },
  {
   "cell_type": "code",
   "execution_count": null,
   "id": "98475e26",
   "metadata": {},
   "outputs": [],
   "source": [
    "import matplotlib.pyplot as plt\n",
    "import japanize_matplotlib\n",
    "\n",
    "data[data.pos.isin([\"名詞\"])].groupby(\"surface\").base.count().rename(\"count\").sort_values(ascending=False).head(10).plot.bar()"
   ]
  },
  {
   "cell_type": "markdown",
   "id": "41887ed1",
   "metadata": {},
   "source": [
    "## 37. 「猫」と共起頻度の高い上位10語Permalink\n",
    "### 「猫」とよく共起する（共起頻度が高い）10語とその出現頻度をグラフ（例えば棒グラフなど）で表示せよ．"
   ]
  },
  {
   "cell_type": "code",
   "execution_count": null,
   "id": "b512b76d",
   "metadata": {},
   "outputs": [],
   "source": [
    "start_index = 0\n",
    "result_df = pd.DataFrame()\n",
    "for period_index in data[data.pos1 == \"句点\"].index:\n",
    "    neko_df = data.loc[start_index:period_index]\n",
    "    if not neko_df[neko_df.surface == \"猫\"].empty:\n",
    "        result_df = pd.concat([result_df,neko_df])\n",
    "    start_index = period_index + 1\n",
    "result_df = result_df[result_df.surface != \"猫\"]\n",
    "result_df[result_df.pos.isin([\"名詞\"])].groupby(\"surface\").base.count().rename(\"count\").sort_values(ascending=False).head(10).plot.bar()"
   ]
  },
  {
   "cell_type": "markdown",
   "id": "ea84bd5d",
   "metadata": {},
   "source": [
    "## 38. ヒストグラムPermalink\n",
    "### 単語の出現頻度のヒストグラムを描け．ただし，横軸は出現頻度を表し，1から単語の出現頻度の最大値までの線形目盛とする．縦軸はx軸で示される出現頻度となった単語の異なり数（種類数）である．"
   ]
  },
  {
   "cell_type": "code",
   "execution_count": null,
   "id": "4908ec54",
   "metadata": {},
   "outputs": [],
   "source": [
    "data.groupby(\"surface\").base.count().rename(\"count\").reset_index().groupby(\"count\").count().reset_index().plot.scatter(y=\"surface\",x=\"count\")"
   ]
  },
  {
   "cell_type": "markdown",
   "id": "ea3ca231",
   "metadata": {},
   "source": [
    "## 39. Zipfの法則Permalink\n",
    "### 単語の出現頻度順位を横軸，その出現頻度を縦軸として，両対数グラフをプロットせよ．"
   ]
  },
  {
   "cell_type": "code",
   "execution_count": null,
   "id": "f422e8ec",
   "metadata": {},
   "outputs": [],
   "source": [
    "data.groupby(\"surface\").base.count().rename(\"count\").reset_index().groupby(\"count\").count().reset_index().plot.scatter(y=\"surface\",x=\"count\",logx=True,logy=True)"
   ]
  }
 ],
 "metadata": {
  "kernelspec": {
   "display_name": "Python 3 (ipykernel)",
   "language": "python",
   "name": "python3"
  },
  "language_info": {
   "codemirror_mode": {
    "name": "ipython",
    "version": 3
   },
   "file_extension": ".py",
   "mimetype": "text/x-python",
   "name": "python",
   "nbconvert_exporter": "python",
   "pygments_lexer": "ipython3",
   "version": "3.10.9"
  }
 },
 "nbformat": 4,
 "nbformat_minor": 5
}
