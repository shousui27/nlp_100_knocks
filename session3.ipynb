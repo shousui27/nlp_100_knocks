{
 "cells": [
  {
   "cell_type": "markdown",
   "id": "5e13ca81",
   "metadata": {},
   "source": [
    "# 第3章: 正規表現"
   ]
  },
  {
   "cell_type": "markdown",
   "id": "c40cf987",
   "metadata": {},
   "source": [
    "## 20. JSONデータの読み込み\n",
    "### Wikipedia記事のJSONファイルを読み込み，「イギリス」に関する記事本文を表示せよ．問題21-29では，ここで抽出した記事本文に対して実行せよ．"
   ]
  },
  {
   "cell_type": "code",
   "execution_count": null,
   "id": "82d905cd",
   "metadata": {},
   "outputs": [],
   "source": [
    "import json\n",
    "import gzip\n",
    "import pandas as pd\n",
    "\n",
    "def read_gz_json(file_name):\n",
    "    with gzip.open(file_name, 'r') as f:\n",
    "        data = [json.loads(line) for line in f]\n",
    "    return pd.DataFrame(data)\n",
    "read_gz_json('data/jawiki-country.json.gz')"
   ]
  },
  {
   "cell_type": "markdown",
   "id": "b542c10e",
   "metadata": {},
   "source": [
    "## 21. カテゴリ名を含む行を抽出\n",
    "### 記事中でカテゴリ名を宣言している行を抽出せよ．\n",
    "\n"
   ]
  },
  {
   "cell_type": "code",
   "execution_count": null,
   "id": "d47cbd2e",
   "metadata": {},
   "outputs": [],
   "source": [
    "data = read_gz_json('data/jawiki-country.json.gz')\n",
    "data[data.text.str.contains(\"Category:\")]"
   ]
  },
  {
   "cell_type": "markdown",
   "id": "1fdcb8c8",
   "metadata": {},
   "source": [
    "## 22. カテゴリ名の抽出\n",
    "### 記事のカテゴリ名を（行単位ではなく名前で）抽出せよ．"
   ]
  },
  {
   "cell_type": "code",
   "execution_count": null,
   "id": "f1ef424d",
   "metadata": {},
   "outputs": [],
   "source": [
    "data.text.str.extractall('Category:(.+)]]')"
   ]
  },
  {
   "cell_type": "markdown",
   "id": "9926bda1",
   "metadata": {},
   "source": [
    "## 23. セクション構造Permalink\n",
    "### 記事中に含まれるセクション名とそのレベル（例えば”== セクション名 ==”なら1）を表示せよ．"
   ]
  },
  {
   "cell_type": "code",
   "execution_count": null,
   "id": "02947774",
   "metadata": {},
   "outputs": [],
   "source": [
    "result = pd.DataFrame()\n",
    "for class_num in range(1,10):\n",
    "    tag = \"\".join([\"=\" for _x in range(class_num + 1)])\n",
    "    df = data.text.str.extractall(f'{tag} (.+) {tag}')\n",
    "    if df.empty:\n",
    "        break\n",
    "    df[\"class\"] = class_num\n",
    "    result = pd.concat([result,df])\n",
    "result"
   ]
  },
  {
   "cell_type": "markdown",
   "id": "4505e5f6",
   "metadata": {},
   "source": [
    "## 24. ファイル参照の抽出\n",
    "### 記事から参照されているメディアファイルをすべて抜き出せ．"
   ]
  },
  {
   "cell_type": "code",
   "execution_count": null,
   "id": "93bb0056",
   "metadata": {},
   "outputs": [],
   "source": [
    "data.text.str.extractall('ファイル:(.+?)\\|')"
   ]
  },
  {
   "cell_type": "markdown",
   "id": "9355104c",
   "metadata": {},
   "source": [
    "## 25. テンプレートの抽出Permalink\n",
    "### 記事中に含まれる「基礎情報」テンプレートのフィールド名と値を抽出し，辞書オブジェクトとして格納せよ．"
   ]
  },
  {
   "cell_type": "code",
   "execution_count": null,
   "id": "0a72a2d7",
   "metadata": {},
   "outputs": [],
   "source": [
    "import re\n",
    "result = {}\n",
    "for _index,row in data.iterrows():\n",
    "    title = row.title\n",
    "    text = row.text\n",
    "    dic = {}\n",
    "    info = False\n",
    "    for sentense in text.split(\"\\n\"):\n",
    "        if info:\n",
    "            find_list = re.findall('\\|(.+?)\\s*=\\s*(.+)',sentense)\n",
    "            if len(find_list) == 0:\n",
    "                break\n",
    "            for tup in find_list:\n",
    "                dic[tup[0]] = tup[1]\n",
    "        if re.search(\"{{基礎情報\",sentense):\n",
    "            info = True\n",
    "    result[title] = dic\n",
    "result"
   ]
  },
  {
   "cell_type": "markdown",
   "id": "3bbf798f",
   "metadata": {},
   "source": [
    "## 26. 強調マークアップの除去\n",
    "### 25の処理時に，テンプレートの値からMediaWikiの強調マークアップ（弱い強調，強調，強い強調のすべて）を除去してテキストに変換せよ（参考: マークアップ早見表）．"
   ]
  },
  {
   "cell_type": "code",
   "execution_count": null,
   "id": "67b6d052",
   "metadata": {},
   "outputs": [],
   "source": [
    "def delete_emphasis(dic:dict) -> dict:\n",
    "    for country in dic.keys():\n",
    "        for key in dic[country].keys():\n",
    "            dic[country][key] = dic[country][key].replace(\"'''\",\"\")\n",
    "    return dic\n",
    "result = delete_emphasis(result)\n",
    "result"
   ]
  },
  {
   "cell_type": "markdown",
   "id": "95970eef",
   "metadata": {},
   "source": [
    "## 27. 内部リンクの除去\n",
    "### 26の処理に加えて，テンプレートの値からMediaWikiの内部リンクマークアップを除去し，テキストに変換せよ（参考: マークアップ早見表）．\n",
    "\n"
   ]
  },
  {
   "cell_type": "code",
   "execution_count": null,
   "id": "91c94386",
   "metadata": {},
   "outputs": [],
   "source": [
    "def check_inner(text:str) -> bool:\n",
    "    file_search = re.search(\"ファイル:(.+?)\\|\",text)\n",
    "    if file_search is not None:\n",
    "        return False\n",
    "    file_search = re.search(\"File:(.+?)\\|\",text)\n",
    "    if file_search is not None:\n",
    "        return False\n",
    "    return True\n",
    "\n",
    "\n",
    "def delete_innerlink(dic:dict) -> dict:\n",
    "    for country in dic.keys():\n",
    "        for key in dic[country].keys():\n",
    "            inner_link = re.findall(\"\\[\\[(.+?)\\]\\]\",dic[country][key])\n",
    "            if len(inner_link) == 0:\n",
    "                continue\n",
    "            new_text = []\n",
    "            for item in inner_link:\n",
    "                if not check_inner(item):\n",
    "                    new_text.append(f\"[[{item}]]\")\n",
    "                else:\n",
    "                    new_text.append(item.split(\"|\")[-1])\n",
    "            dic[country][key] = \",\".join(new_text)\n",
    "    return dic\n",
    "result = delete_innerlink(result)\n",
    "result"
   ]
  },
  {
   "cell_type": "markdown",
   "id": "e514195b",
   "metadata": {},
   "source": [
    "## 28. MediaWikiマークアップの除去Permalink\n",
    "### 27の処理に加えて，テンプレートの値からMediaWikiマークアップを可能な限り除去し，国の基本情報を整形せよ．"
   ]
  },
  {
   "cell_type": "code",
   "execution_count": null,
   "id": "d7c39bb0",
   "metadata": {},
   "outputs": [],
   "source": [
    "def delete_markup(dic:dict) -> dict:\n",
    "    for country in dic.keys():\n",
    "        for key in dic[country].keys():\n",
    "            dic[country][key] = re.sub(\"\\{\\{(.+?)\\}\\}\",\"\\\\1\",dic[country][key])        \n",
    "    return dic\n",
    "result = delete_markup(result)\n",
    "result"
   ]
  },
  {
   "cell_type": "markdown",
   "id": "314181d7",
   "metadata": {},
   "source": [
    "## 29. 国旗画像のURLを取得する\n",
    "### テンプレートの内容を利用し，国旗画像のURLを取得せよ．（ヒント: MediaWiki APIのimageinfoを呼び出して，ファイル参照をURLに変換すればよい）"
   ]
  },
  {
   "cell_type": "code",
   "execution_count": null,
   "id": "8cabbdab",
   "metadata": {},
   "outputs": [],
   "source": [
    "import json\n",
    "import requests\n",
    "def get_flagimage(country_dict:dict)->dict:\n",
    "    if '国旗画像' not in country_dict:\n",
    "        return {}\n",
    "    url = \"https://en.wikipedia.org/w/api.php\"\n",
    "    params = {\n",
    "        \"action\": \"query\",\n",
    "        \"format\": \"json\",\n",
    "        \"prop\": \"imageinfo\",\n",
    "        \"titles\": f\"File:{country_dict['国旗画像']}\",\n",
    "        \"iiprop\":\"url\"\n",
    "    }\n",
    "    r = requests.get(url=url, params=params)\n",
    "    request_result = json.loads(r.text)\n",
    "    image_dict = {}\n",
    "    for page in request_result['query']['pages'].values():\n",
    "        image_dict[page[\"title\"]] = [image['url'] for image in page['imageinfo']]\n",
    "    return image_dict\n",
    "\n",
    "flag_dict = {}\n",
    "for country in result.keys():\n",
    "    flag_dict[country] = get_flagimage(result[country])\n",
    "flag_dict"
   ]
  }
 ],
 "metadata": {
  "kernelspec": {
   "display_name": "Python 3 (ipykernel)",
   "language": "python",
   "name": "python3"
  },
  "language_info": {
   "codemirror_mode": {
    "name": "ipython",
    "version": 3
   },
   "file_extension": ".py",
   "mimetype": "text/x-python",
   "name": "python",
   "nbconvert_exporter": "python",
   "pygments_lexer": "ipython3",
   "version": "3.10.9"
  }
 },
 "nbformat": 4,
 "nbformat_minor": 5
}
