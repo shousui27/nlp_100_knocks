{
 "cells": [
  {
   "cell_type": "markdown",
   "id": "b302b665",
   "metadata": {},
   "source": [
    "### 行数をカウントせよ．確認にはwcコマンドを用いよ．"
   ]
  },
  {
   "cell_type": "code",
   "execution_count": null,
   "id": "30a4a7d8",
   "metadata": {},
   "outputs": [],
   "source": [
    "import pandas as pd\n",
    "pd.read_csv(\"data/popular-names.txt\",sep=\"\\t\",header=None).shape[0]"
   ]
  },
  {
   "cell_type": "code",
   "execution_count": null,
   "id": "9e4e3a5c",
   "metadata": {},
   "outputs": [],
   "source": [
    "!wc data/popular-names.txt"
   ]
  },
  {
   "cell_type": "markdown",
   "id": "e3024485",
   "metadata": {},
   "source": [
    "### タブ1文字につきスペース1文字に置換せよ．確認にはsedコマンド，trコマンド，もしくはexpandコマンドを用いよ．"
   ]
  },
  {
   "cell_type": "code",
   "execution_count": null,
   "id": "91ce1d26",
   "metadata": {},
   "outputs": [],
   "source": [
    "with open(\"data/popular-names.txt\", \"r\") as f:\n",
    "    print(f.read().replace(\"\\t\",\" \"))"
   ]
  },
  {
   "cell_type": "code",
   "execution_count": null,
   "id": "2fe2cdb8",
   "metadata": {},
   "outputs": [],
   "source": [
    "!sed -e 's/\\t/ /g' data/popular-names.txt"
   ]
  },
  {
   "cell_type": "markdown",
   "id": "a2ca9a70",
   "metadata": {},
   "source": [
    "### 各行の1列目だけを抜き出したものをcol1.txtに，2列目だけを抜き出したものをcol2.txtとしてファイルに保存せよ．確認にはcutコマンドを用いよ．"
   ]
  },
  {
   "cell_type": "code",
   "execution_count": null,
   "id": "3b5de402",
   "metadata": {},
   "outputs": [],
   "source": [
    "import pandas as pd\n",
    "data = pd.read_csv(\"data/popular-names.txt\",sep=\"\\t\",header=None)\n",
    "for index in [1,2]:\n",
    "    data[index-1].to_csv(f\"data/col{index}.txt\",index=None,header=None)"
   ]
  },
  {
   "cell_type": "code",
   "execution_count": null,
   "id": "19d3b33a",
   "metadata": {},
   "outputs": [],
   "source": [
    "!cut -f 1 data/popular-names.txt > data/col1.txt\n",
    "!cut -f 2 data/popular-names.txt > data/col2.txt"
   ]
  },
  {
   "cell_type": "markdown",
   "id": "024c8aa0",
   "metadata": {},
   "source": [
    "### 12で作ったcol1.txtとcol2.txtを結合し，元のファイルの1列目と2列目をタブ区切りで並べたテキストファイルを作成せよ．確認にはpasteコマンドを用いよ．"
   ]
  },
  {
   "cell_type": "code",
   "execution_count": null,
   "id": "dfb5b112",
   "metadata": {},
   "outputs": [],
   "source": [
    "data1 = pd.read_csv(\"data/col1.txt\",header=None)\n",
    "data2 = pd.read_csv(\"data/col2.txt\",header=None)\n",
    "pd.concat([data1,data2],axis=1)"
   ]
  },
  {
   "cell_type": "code",
   "execution_count": null,
   "id": "a5aea921",
   "metadata": {},
   "outputs": [],
   "source": [
    "!paste -d \"\\t\" data/col1.txt data/col2.txt"
   ]
  },
  {
   "cell_type": "markdown",
   "id": "072ae4d0",
   "metadata": {},
   "source": [
    "### 自然数Nをコマンドライン引数などの手段で受け取り，入力のうち先頭のN行だけを表示せよ．確認にはheadコマンドを用いよ．"
   ]
  },
  {
   "cell_type": "code",
   "execution_count": null,
   "id": "4af9d37e",
   "metadata": {},
   "outputs": [],
   "source": [
    "pd.read_csv(\"data/popular-names.txt\",sep=\"\\t\",header=None).head(10)"
   ]
  },
  {
   "cell_type": "code",
   "execution_count": null,
   "id": "4320a4d5",
   "metadata": {},
   "outputs": [],
   "source": [
    "!head -n10 data/popular-names.txt"
   ]
  },
  {
   "cell_type": "markdown",
   "id": "3e1abe65",
   "metadata": {},
   "source": [
    "### 自然数Nをコマンドライン引数などの手段で受け取り，入力のうち末尾のN行だけを表示せよ．確認にはtailコマンドを用いよ．"
   ]
  },
  {
   "cell_type": "code",
   "execution_count": null,
   "id": "b20c8e27",
   "metadata": {},
   "outputs": [],
   "source": [
    "pd.read_csv(\"data/popular-names.txt\",sep=\"\\t\",header=None).tail(10)"
   ]
  },
  {
   "cell_type": "code",
   "execution_count": null,
   "id": "dc24c5af",
   "metadata": {},
   "outputs": [],
   "source": [
    "!tail -n10 data/popular-names.txt"
   ]
  },
  {
   "cell_type": "markdown",
   "id": "bbc63519",
   "metadata": {},
   "source": [
    "### 自然数Nをコマンドライン引数などの手段で受け取り，入力のファイルを行単位でN分割せよ．同様の処理をsplitコマンドで実現せよ．"
   ]
  },
  {
   "cell_type": "code",
   "execution_count": null,
   "id": "f9a5a2ed",
   "metadata": {},
   "outputs": [],
   "source": [
    "import math\n",
    "def df_split(data,n):\n",
    "    split_num = math.ceil(len(data) / n)\n",
    "    return [data.loc[index*split_num : (index+1)* split_num-1] for index in range(n)]\n",
    "data = pd.read_csv(\"data/popular-names.txt\",sep=\"\\t\",header=None)    \n",
    "df_split(data,8)"
   ]
  },
  {
   "cell_type": "code",
   "execution_count": null,
   "id": "9e9ef21a",
   "metadata": {},
   "outputs": [],
   "source": [
    "!split -n10 data/popular-names.txt data/popular-names_split/"
   ]
  },
  {
   "cell_type": "markdown",
   "id": "63c7b4c6",
   "metadata": {},
   "source": [
    "### 1列目の文字列の種類（異なる文字列の集合）を求めよ．確認にはcut, sort, uniqコマンドを用いよ．"
   ]
  },
  {
   "cell_type": "code",
   "execution_count": null,
   "id": "e9c8cde4",
   "metadata": {},
   "outputs": [],
   "source": [
    "data = pd.read_csv(\"data/popular-names.txt\",sep=\"\\t\",header=None)    \n",
    "data[0].unique()"
   ]
  },
  {
   "cell_type": "code",
   "execution_count": null,
   "id": "45bd4b86",
   "metadata": {},
   "outputs": [],
   "source": [
    "!cut -f 1  data/popular-names.txt | sort | uniq"
   ]
  },
  {
   "cell_type": "markdown",
   "id": "c9f2cd37",
   "metadata": {},
   "source": [
    "### 各行を3コラム目の数値の逆順で整列せよ（注意: 各行の内容は変更せずに並び替えよ）．確認にはsortコマンドを用いよ（この問題はコマンドで実行した時の結果と合わなくてもよい）．"
   ]
  },
  {
   "cell_type": "code",
   "execution_count": null,
   "id": "0abf25bb",
   "metadata": {},
   "outputs": [],
   "source": [
    "data = pd.read_csv(\"data/popular-names.txt\",sep=\"\\t\",header=None)\n",
    "data.sort_values(2,ascending=False)"
   ]
  },
  {
   "cell_type": "code",
   "execution_count": null,
   "id": "9798afe7",
   "metadata": {},
   "outputs": [],
   "source": [
    "!cut -f 3 data/popular-names.txt | sort -n -r"
   ]
  },
  {
   "cell_type": "markdown",
   "id": "d335efa7",
   "metadata": {},
   "source": [
    "### 各行の1列目の文字列の出現頻度を求め，その高い順に並べて表示せよ．確認にはcut, uniq, sortコマンドを用いよ．"
   ]
  },
  {
   "cell_type": "code",
   "execution_count": null,
   "id": "addba6bb",
   "metadata": {},
   "outputs": [],
   "source": [
    "data = pd.read_csv(\"data/popular-names.txt\",sep=\"\\t\",header=None)\n",
    "data.groupby(0).count().sort_values(1,ascending=False)"
   ]
  },
  {
   "cell_type": "code",
   "execution_count": null,
   "id": "c278a48d",
   "metadata": {},
   "outputs": [],
   "source": [
    "!cut -f 1 data/popular-names.txt | sort | uniq -c | sort -n -r"
   ]
  }
 ],
 "metadata": {
  "kernelspec": {
   "display_name": "Python 3 (ipykernel)",
   "language": "python",
   "name": "python3"
  },
  "language_info": {
   "codemirror_mode": {
    "name": "ipython",
    "version": 3
   },
   "file_extension": ".py",
   "mimetype": "text/x-python",
   "name": "python",
   "nbconvert_exporter": "python",
   "pygments_lexer": "ipython3",
   "version": "3.10.9"
  }
 },
 "nbformat": 4,
 "nbformat_minor": 5
}
